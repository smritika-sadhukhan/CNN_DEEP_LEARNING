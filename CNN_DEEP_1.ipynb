{
 "cells": [
  {
   "cell_type": "code",
   "execution_count": 0,
   "metadata": {
    "colab": {
     "base_uri": "https://localhost:8080/",
     "height": 783
    },
    "colab_type": "code",
    "id": "nWOSyqTLKGvE",
    "outputId": "85b64316-2995-43d7-a5d1-66599fa9f6e0"
   },
   "outputs": [
    {
     "name": "stderr",
     "output_type": "stream",
     "text": [
      "Using TensorFlow backend.\n"
     ]
    },
    {
     "name": "stdout",
     "output_type": "stream",
     "text": [
      "Downloading data from https://s3.amazonaws.com/img-datasets/mnist.npz\n",
      "11493376/11490434 [==============================] - 1s 0us/step\n",
      "x_train shape: (60000, 28, 28, 1)\n",
      "60000 train samples\n",
      "10000 test samples\n",
      "WARNING:tensorflow:From /usr/local/lib/python3.6/dist-packages/tensorflow/python/framework/op_def_library.py:263: colocate_with (from tensorflow.python.framework.ops) is deprecated and will be removed in a future version.\n",
      "Instructions for updating:\n",
      "Colocations handled automatically by placer.\n",
      "WARNING:tensorflow:From /usr/local/lib/python3.6/dist-packages/keras/backend/tensorflow_backend.py:3445: calling dropout (from tensorflow.python.ops.nn_ops) with keep_prob is deprecated and will be removed in a future version.\n",
      "Instructions for updating:\n",
      "Please use `rate` instead of `keep_prob`. Rate should be set to `rate = 1 - keep_prob`.\n",
      "WARNING:tensorflow:From /usr/local/lib/python3.6/dist-packages/tensorflow/python/ops/math_ops.py:3066: to_int32 (from tensorflow.python.ops.math_ops) is deprecated and will be removed in a future version.\n",
      "Instructions for updating:\n",
      "Use tf.cast instead.\n",
      "Train on 60000 samples, validate on 10000 samples\n",
      "Epoch 1/12\n",
      "60000/60000 [==============================] - 245s 4ms/step - loss: 0.2464 - acc: 0.9241 - val_loss: 0.0481 - val_acc: 0.9838\n",
      "Epoch 2/12\n",
      "60000/60000 [==============================] - 243s 4ms/step - loss: 0.0815 - acc: 0.9752 - val_loss: 0.0378 - val_acc: 0.9881\n",
      "Epoch 3/12\n",
      "60000/60000 [==============================] - 243s 4ms/step - loss: 0.0611 - acc: 0.9820 - val_loss: 0.0273 - val_acc: 0.9906\n",
      "Epoch 4/12\n",
      "60000/60000 [==============================] - 241s 4ms/step - loss: 0.0490 - acc: 0.9851 - val_loss: 0.0236 - val_acc: 0.9921\n",
      "Epoch 5/12\n",
      "60000/60000 [==============================] - 241s 4ms/step - loss: 0.0435 - acc: 0.9867 - val_loss: 0.0230 - val_acc: 0.9920\n",
      "Epoch 6/12\n",
      "60000/60000 [==============================] - 244s 4ms/step - loss: 0.0374 - acc: 0.9888 - val_loss: 0.0213 - val_acc: 0.9929\n",
      "Epoch 7/12\n",
      "60000/60000 [==============================] - 243s 4ms/step - loss: 0.0329 - acc: 0.9899 - val_loss: 0.0200 - val_acc: 0.9934\n",
      "Epoch 8/12\n",
      "60000/60000 [==============================] - 245s 4ms/step - loss: 0.0315 - acc: 0.9901 - val_loss: 0.0227 - val_acc: 0.9926\n",
      "Epoch 9/12\n",
      "60000/60000 [==============================] - 243s 4ms/step - loss: 0.0296 - acc: 0.9909 - val_loss: 0.0205 - val_acc: 0.9935\n",
      "Epoch 10/12\n",
      "60000/60000 [==============================] - 247s 4ms/step - loss: 0.0275 - acc: 0.9912 - val_loss: 0.0189 - val_acc: 0.9936\n",
      "Epoch 11/12\n",
      "60000/60000 [==============================] - 246s 4ms/step - loss: 0.0252 - acc: 0.9924 - val_loss: 0.0183 - val_acc: 0.9939\n",
      "Epoch 12/12\n",
      "60000/60000 [==============================] - 245s 4ms/step - loss: 0.0223 - acc: 0.9925 - val_loss: 0.0216 - val_acc: 0.9930\n",
      "Test loss: 0.021597764268203038\n",
      "Test accuracy: 0.993\n"
     ]
    }
   ],
   "source": [
    "# Credits: https://github.com/keras-team/keras/blob/master/examples/mnist_cnn.py\n",
    "\n",
    "\n",
    "from __future__ import print_function\n",
    "import keras\n",
    "from keras.datasets import mnist\n",
    "from keras.models import Sequential\n",
    "from keras.layers import Dense, Dropout, Flatten\n",
    "from keras.layers import Conv2D, MaxPooling2D\n",
    "from keras import backend as K\n",
    "\n",
    "batch_size = 128\n",
    "num_classes = 10\n",
    "epochs = 12\n",
    "\n",
    "# input image dimensions\n",
    "img_rows, img_cols = 28, 28\n",
    "\n",
    "# the data, split between train and test sets\n",
    "(x_train, y_train), (x_test, y_test) = mnist.load_data()\n",
    "\n",
    "if K.image_data_format() == 'channels_first':\n",
    "    x_train = x_train.reshape(x_train.shape[0], 1, img_rows, img_cols)\n",
    "    x_test = x_test.reshape(x_test.shape[0], 1, img_rows, img_cols)\n",
    "    input_shape = (1, img_rows, img_cols)\n",
    "else:\n",
    "    x_train = x_train.reshape(x_train.shape[0], img_rows, img_cols, 1)\n",
    "    x_test = x_test.reshape(x_test.shape[0], img_rows, img_cols, 1)\n",
    "    input_shape = (img_rows, img_cols, 1)\n",
    "\n",
    "x_train = x_train.astype('float32')\n",
    "x_test = x_test.astype('float32')\n",
    "x_train /= 255\n",
    "x_test /= 255\n",
    "print('x_train shape:', x_train.shape)\n",
    "print(x_train.shape[0], 'train samples')\n",
    "print(x_test.shape[0], 'test samples')\n",
    "\n",
    "# convert class vectors to binary class matrices\n",
    "y_train = keras.utils.to_categorical(y_train, num_classes)\n",
    "y_test = keras.utils.to_categorical(y_test, num_classes)\n",
    "\n",
    "model = Sequential()\n",
    "model.add(Conv2D(32, kernel_size=(5, 5),\n",
    "                 activation='relu',\n",
    "                 input_shape=input_shape))\n",
    "model.add(Conv2D(64, (5, 5), activation='relu'))\n",
    "model.add(MaxPooling2D(pool_size=(3, 3)))\n",
    "model.add(Dropout(0.25))\n",
    "model.add(Flatten())\n",
    "model.add(Dense(128, activation='relu'))\n",
    "model.add(Dropout(0.5))\n",
    "model.add(Dense(num_classes, activation='softmax'))\n",
    "\n",
    "model.compile(loss=keras.losses.categorical_crossentropy,\n",
    "              optimizer=keras.optimizers.Adam(),\n",
    "              metrics=['accuracy'])\n",
    "\n",
    "history=model.fit(x_train, y_train,\n",
    "          batch_size=batch_size,\n",
    "          epochs=epochs,\n",
    "          verbose=1,\n",
    "          validation_data=(x_test, y_test))\n",
    "score = model.evaluate(x_test, y_test, verbose=0)\n",
    "print('Test loss:', score[0])\n",
    "print('Test accuracy:', score[1])"
   ]
  },
  {
   "cell_type": "code",
   "execution_count": 0,
   "metadata": {
    "colab": {},
    "colab_type": "code",
    "id": "0X8AkOrPKGmA"
   },
   "outputs": [],
   "source": [
    "\n",
    "import time\n",
    "\n",
    "\n",
    "# https://gist.github.com/greydanus/f6eee59eaf1d90fcb3b534a25362cea4\n",
    "# https://stackoverflow.com/a/14434334\n",
    "# this function is used to update the plots for each epoch and error\n",
    "def plt_dynamic(x, vy, ty, ax, colors=['b']):\n",
    "    import IPython\n",
    "    ax.plot(x, vy, 'b', label=\"Validation Loss\")\n",
    "    ax.plot(x, ty, 'r', label=\"Train Loss\")\n",
    "    plt.legend()\n",
    "    plt.grid()\n",
    "    plt.show()\n",
    "    "
   ]
  },
  {
   "cell_type": "code",
   "execution_count": 0,
   "metadata": {
    "colab": {
     "base_uri": "https://localhost:8080/",
     "height": 396
    },
    "colab_type": "code",
    "id": "J7H16uFUKGjB",
    "outputId": "7fc4d1d4-fea4-4a2a-f65b-8fab1cae8c54"
   },
   "outputs": [
    {
     "name": "stdout",
     "output_type": "stream",
     "text": [
      "Test score: 0.021597764268203038\n",
      "Test accuracy: 0.993\n"
     ]
    },
    {
     "data": {
      "image/png": "[encoded data removed]",
      "text/plain": [
       "<Figure size 576x396 with 1 Axes>"
      ]
     },
     "metadata": {
      "tags": []
     },
     "output_type": "display_data"
    }
   ],
   "source": [
    "import matplotlib.pyplot as plt\n",
    "\n",
    "score = model.evaluate(x_test, y_test, verbose=0) \n",
    "print('Test score:', score[0]) \n",
    "print('Test accuracy:', score[1])\n",
    "\n",
    "\n",
    "fig,ax = plt.subplots(1,1)\n",
    "ax.set_xlabel('epoch') ; ax.set_ylabel('Categorical Crossentropy Loss')\n",
    "\n",
    "# list of epoch numbers\n",
    "x = list(range(1,epochs+1))\n",
    "\n",
    "# print(history.history.keys())\n",
    "# dict_keys(['val_loss', 'val_acc', 'loss', 'acc'])\n",
    "# history = model_drop.fit(X_train, Y_train, batch_size=batch_size, epochs=nb_epoch, verbose=1, validation_data=(X_test, Y_test))\n",
    "\n",
    "# we will get val_loss and val_acc only when you pass the paramter validation_data\n",
    "# val_loss : validation loss\n",
    "# val_acc : validation accuracy\n",
    "\n",
    "# loss : training loss\n",
    "# acc : train accuracy\n",
    "# for each key in histrory.histrory we will have a list of length equal to number of epochs\n",
    "\n",
    "vy = history.history['val_loss']\n",
    "ty = history.history['loss']\n",
    "plt_dynamic(x, vy, ty, ax)\n"
   ]
  },
  {
   "cell_type": "code",
   "execution_count": 6,
   "metadata": {
    "colab": {
     "base_uri": "https://localhost:8080/",
     "height": 490
    },
    "colab_type": "code",
    "id": "ybA0Q6cxRbQ4",
    "outputId": "6b2ff6e7-24d2-40cb-e681-082f5df12d08"
   },
   "outputs": [
    {
     "name": "stdout",
     "output_type": "stream",
     "text": [
      "x_train shape: (60000, 28, 28, 1)\n",
      "60000 train samples\n",
      "10000 test samples\n",
      "Train on 60000 samples, validate on 10000 samples\n",
      "Epoch 1/10\n",
      "60000/60000 [==============================] - 313s 5ms/step - loss: 0.2025 - acc: 0.9369 - val_loss: 0.0423 - val_acc: 0.9865\n",
      "Epoch 2/10\n",
      "60000/60000 [==============================] - 313s 5ms/step - loss: 0.0611 - acc: 0.9814 - val_loss: 0.0300 - val_acc: 0.9903\n",
      "Epoch 3/10\n",
      "60000/60000 [==============================] - 314s 5ms/step - loss: 0.0449 - acc: 0.9856 - val_loss: 0.0279 - val_acc: 0.9899\n",
      "Epoch 4/10\n",
      "60000/60000 [==============================] - 312s 5ms/step - loss: 0.0349 - acc: 0.9895 - val_loss: 0.0258 - val_acc: 0.9918\n",
      "Epoch 5/10\n",
      "60000/60000 [==============================] - 314s 5ms/step - loss: 0.0286 - acc: 0.9909 - val_loss: 0.0272 - val_acc: 0.9910\n",
      "Epoch 6/10\n",
      "60000/60000 [==============================] - 313s 5ms/step - loss: 0.0264 - acc: 0.9917 - val_loss: 0.0232 - val_acc: 0.9926\n",
      "Epoch 7/10\n",
      "60000/60000 [==============================] - 311s 5ms/step - loss: 0.0218 - acc: 0.9928 - val_loss: 0.0249 - val_acc: 0.9928\n",
      "Epoch 8/10\n",
      "60000/60000 [==============================] - 309s 5ms/step - loss: 0.0211 - acc: 0.9931 - val_loss: 0.0215 - val_acc: 0.9932\n",
      "Epoch 9/10\n",
      "60000/60000 [==============================] - 309s 5ms/step - loss: 0.0182 - acc: 0.9943 - val_loss: 0.0299 - val_acc: 0.9910\n",
      "Epoch 10/10\n",
      "60000/60000 [==============================] - 311s 5ms/step - loss: 0.0175 - acc: 0.9945 - val_loss: 0.0241 - val_acc: 0.9933\n",
      "Test loss: 0.02412463044149199\n",
      "Test accuracy: 0.9933\n"
     ]
    }
   ],
   "source": [
    "# Credits: https://github.com/keras-team/keras/blob/master/examples/mnist_cnn.py\n",
    "\n",
    "\n",
    "from __future__ import print_function\n",
    "import keras\n",
    "from keras.datasets import mnist\n",
    "from keras.models import Sequential\n",
    "from keras.layers import Dense, Dropout, Flatten\n",
    "from keras.layers import Conv2D, MaxPooling2D\n",
    "from keras import backend as K\n",
    "\n",
    "batch_size = 128\n",
    "num_classes = 10\n",
    "epochs = 10\n",
    "\n",
    "# input image dimensions\n",
    "img_rows, img_cols = 28, 28\n",
    "\n",
    "# the data, split between train and test sets\n",
    "(x_train, y_train), (x_test, y_test) = mnist.load_data()\n",
    "\n",
    "if K.image_data_format() == 'channels_first':\n",
    "    x_train = x_train.reshape(x_train.shape[0], 1, img_rows, img_cols)\n",
    "    x_test = x_test.reshape(x_test.shape[0], 1, img_rows, img_cols)\n",
    "    input_shape = (1, img_rows, img_cols)\n",
    "else:\n",
    "    x_train = x_train.reshape(x_train.shape[0], img_rows, img_cols, 1)\n",
    "    x_test = x_test.reshape(x_test.shape[0], img_rows, img_cols, 1)\n",
    "    input_shape = (img_rows, img_cols, 1)\n",
    "\n",
    "x_train = x_train.astype('float32')\n",
    "x_test = x_test.astype('float32')\n",
    "x_train /= 255\n",
    "x_test /= 255\n",
    "print('x_train shape:', x_train.shape)\n",
    "print(x_train.shape[0], 'train samples')\n",
    "print(x_test.shape[0], 'test samples')\n",
    "\n",
    "# convert class vectors to binary class matrices\n",
    "y_train = keras.utils.to_categorical(y_train, num_classes)\n",
    "y_test = keras.utils.to_categorical(y_test, num_classes)\n",
    "\n",
    "model = Sequential()\n",
    "model.add(Conv2D(32, kernel_size=(7,7),\n",
    "                 activation='relu',\n",
    "                 input_shape=input_shape))\n",
    "model.add(Conv2D(64, (7,7), activation='relu'))\n",
    "model.add(MaxPooling2D(pool_size=(3,3)))\n",
    "model.add(Dropout(0.25))\n",
    "model.add(Flatten())\n",
    "model.add(Dense(128, activation='relu'))\n",
    "model.add(Dropout(0.25))\n",
    "model.add(Dense(num_classes, activation='softmax'))\n",
    "\n",
    "model.compile(loss=keras.losses.categorical_crossentropy,\n",
    "              optimizer=keras.optimizers.Adam(),\n",
    "              metrics=['accuracy'])\n",
    "\n",
    "history=model.fit(x_train, y_train,\n",
    "          batch_size=batch_size,\n",
    "          epochs=epochs,\n",
    "          verbose=1,\n",
    "          validation_data=(x_test, y_test))\n",
    "score = model.evaluate(x_test, y_test, verbose=0)\n",
    "print('Test loss:', score[0])\n",
    "print('Test accuracy:', score[1])"
   ]
  },
  {
   "cell_type": "code",
   "execution_count": 10,
   "metadata": {
    "colab": {
     "base_uri": "https://localhost:8080/",
     "height": 397
    },
    "colab_type": "code",
    "id": "K37UEvkuRbVM",
    "outputId": "96dbb12b-d45d-4ae1-e914-3ac3f130974f"
   },
   "outputs": [
    {
     "name": "stdout",
     "output_type": "stream",
     "text": [
      "Test score: 0.02412463044149199\n",
      "Test accuracy: 0.9933\n"
     ]
    },
    {
     "data": {
      "image/png": "[encoded data removed]",
      "text/plain": [
       "<Figure size 576x396 with 1 Axes>"
      ]
     },
     "metadata": {
      "tags": []
     },
     "output_type": "display_data"
    }
   ],
   "source": [
    "score = model.evaluate(x_test, y_test, verbose=0) \n",
    "print('Test score:', score[0]) \n",
    "print('Test accuracy:', score[1])\n",
    "\n",
    "\n",
    "fig,ax = plt.subplots(1,1)\n",
    "ax.set_xlabel('epoch') ; ax.set_ylabel('Categorical Crossentropy Loss')\n",
    "\n",
    "# list of epoch numbers\n",
    "x = list(range(1,epochs+1))\n",
    "\n",
    "# print(history.history.keys())\n",
    "# dict_keys(['val_loss', 'val_acc', 'loss', 'acc'])\n",
    "# history = model_drop.fit(X_train, Y_train, batch_size=batch_size, epochs=nb_epoch, verbose=1, validation_data=(X_test, Y_test))\n",
    "\n",
    "# we will get val_loss and val_acc only when you pass the paramter validation_data\n",
    "# val_loss : validation loss\n",
    "# val_acc : validation accuracy\n",
    "\n",
    "# loss : training loss\n",
    "# acc : train accuracy\n",
    "# for each key in histrory.histrory we will have a list of length equal to number of epochs\n",
    "\n",
    "vy = history.history['val_loss']\n",
    "ty = history.history['loss']\n",
    "plt_dynamic(x, vy, ty, ax)\n"
   ]
  },
  {
   "cell_type": "code",
   "execution_count": 11,
   "metadata": {
    "colab": {
     "base_uri": "https://localhost:8080/",
     "height": 563
    },
    "colab_type": "code",
    "id": "S0Vm33IsRofS",
    "outputId": "6a4d6aba-025a-4b81-be84-d773530dd1d6"
   },
   "outputs": [
    {
     "name": "stdout",
     "output_type": "stream",
     "text": [
      "x_train shape: (60000, 28, 28, 1)\n",
      "60000 train samples\n",
      "10000 test samples\n",
      "Train on 60000 samples, validate on 10000 samples\n",
      "Epoch 1/12\n",
      "60000/60000 [==============================] - 360s 6ms/step - loss: 0.2300 - acc: 0.9307 - val_loss: 0.0524 - val_acc: 0.9837\n",
      "Epoch 2/12\n",
      "60000/60000 [==============================] - 360s 6ms/step - loss: 0.0795 - acc: 0.9764 - val_loss: 0.0326 - val_acc: 0.9891\n",
      "Epoch 3/12\n",
      "60000/60000 [==============================] - 362s 6ms/step - loss: 0.0598 - acc: 0.9818 - val_loss: 0.0286 - val_acc: 0.9907\n",
      "Epoch 4/12\n",
      "60000/60000 [==============================] - 367s 6ms/step - loss: 0.0494 - acc: 0.9847 - val_loss: 0.0232 - val_acc: 0.9926\n",
      "Epoch 5/12\n",
      "60000/60000 [==============================] - 376s 6ms/step - loss: 0.0443 - acc: 0.9865 - val_loss: 0.0265 - val_acc: 0.9918\n",
      "Epoch 6/12\n",
      "60000/60000 [==============================] - 385s 6ms/step - loss: 0.0386 - acc: 0.9882 - val_loss: 0.0214 - val_acc: 0.9937\n",
      "Epoch 7/12\n",
      "60000/60000 [==============================] - 358s 6ms/step - loss: 0.0335 - acc: 0.9901 - val_loss: 0.0218 - val_acc: 0.9926\n",
      "Epoch 8/12\n",
      "60000/60000 [==============================] - 358s 6ms/step - loss: 0.0305 - acc: 0.9903 - val_loss: 0.0234 - val_acc: 0.9913\n",
      "Epoch 9/12\n",
      "60000/60000 [==============================] - 358s 6ms/step - loss: 0.0295 - acc: 0.9905 - val_loss: 0.0211 - val_acc: 0.9940\n",
      "Epoch 10/12\n",
      "60000/60000 [==============================] - 369s 6ms/step - loss: 0.0265 - acc: 0.9918 - val_loss: 0.0216 - val_acc: 0.9931\n",
      "Epoch 11/12\n",
      "60000/60000 [==============================] - 358s 6ms/step - loss: 0.0257 - acc: 0.9921 - val_loss: 0.0196 - val_acc: 0.9940\n",
      "Epoch 12/12\n",
      "60000/60000 [==============================] - 359s 6ms/step - loss: 0.0246 - acc: 0.9923 - val_loss: 0.0227 - val_acc: 0.9931\n",
      "Test loss: 0.022735029783016444\n",
      "Test accuracy: 0.9931\n"
     ]
    }
   ],
   "source": [
    "# Credits: https://github.com/keras-team/keras/blob/master/examples/mnist_cnn.py\n",
    "\n",
    "\n",
    "from __future__ import print_function\n",
    "import keras\n",
    "from keras.datasets import mnist\n",
    "from keras.models import Sequential\n",
    "from keras.layers import Dense, Dropout, Flatten\n",
    "from keras.layers import Conv2D, MaxPooling2D\n",
    "from keras import backend as K\n",
    "\n",
    "batch_size = 128\n",
    "num_classes = 10\n",
    "epochs = 12\n",
    "\n",
    "# input image dimensions\n",
    "img_rows, img_cols = 28, 28\n",
    "\n",
    "# the data, split between train and test sets\n",
    "(x_train, y_train), (x_test, y_test) = mnist.load_data()\n",
    "\n",
    "if K.image_data_format() == 'channels_first':\n",
    "    x_train = x_train.reshape(x_train.shape[0], 1, img_rows, img_cols)\n",
    "    x_test = x_test.reshape(x_test.shape[0], 1, img_rows, img_cols)\n",
    "    input_shape = (1, img_rows, img_cols)\n",
    "else:\n",
    "    x_train = x_train.reshape(x_train.shape[0], img_rows, img_cols, 1)\n",
    "    x_test = x_test.reshape(x_test.shape[0], img_rows, img_cols, 1)\n",
    "    input_shape = (img_rows, img_cols, 1)\n",
    "\n",
    "x_train = x_train.astype('float32')\n",
    "x_test = x_test.astype('float32')\n",
    "x_train /= 255\n",
    "x_test /= 255\n",
    "print('x_train shape:', x_train.shape)\n",
    "print(x_train.shape[0], 'train samples')\n",
    "print(x_test.shape[0], 'test samples')\n",
    "\n",
    "# convert class vectors to binary class matrices\n",
    "y_train = keras.utils.to_categorical(y_train, num_classes)\n",
    "y_test = keras.utils.to_categorical(y_test, num_classes)\n",
    "\n",
    "model = Sequential()\n",
    "model.add(Conv2D(32, kernel_size=(3, 3),\n",
    "                 activation='relu',\n",
    "                 input_shape=input_shape))\n",
    "model.add(Conv2D(64, (6, 6), activation='relu'))\n",
    "model.add(MaxPooling2D(pool_size=(2, 2)))\n",
    "model.add(Dropout(0.5))\n",
    "model.add(Flatten())\n",
    "model.add(Dense(128, activation='relu'))\n",
    "model.add(Dropout(0.5))\n",
    "model.add(Dense(num_classes, activation='softmax'))\n",
    "\n",
    "model.compile(loss=keras.losses.categorical_crossentropy,\n",
    "              optimizer=keras.optimizers.Adam(),\n",
    "              metrics=['accuracy'])\n",
    "\n",
    "history=model.fit(x_train, y_train,\n",
    "          batch_size=batch_size,\n",
    "          epochs=epochs,\n",
    "          verbose=1,\n",
    "          validation_data=(x_test, y_test))\n",
    "score = model.evaluate(x_test, y_test, verbose=0)\n",
    "print('Test loss:', score[0])\n",
    "print('Test accuracy:', score[1])"
   ]
  },
  {
   "cell_type": "code",
   "execution_count": 12,
   "metadata": {
    "colab": {
     "base_uri": "https://localhost:8080/",
     "height": 397
    },
    "colab_type": "code",
    "id": "gd_MSqYVRbPN",
    "outputId": "951f85bb-d14e-476b-97fc-2ac3b1b031b9"
   },
   "outputs": [
    {
     "name": "stdout",
     "output_type": "stream",
     "text": [
      "Test score: 0.022735029783016444\n",
      "Test accuracy: 0.9931\n"
     ]
    },
    {
     "data": {
      "image/png": "[encoded data removed]",
      "text/plain": [
       "<Figure size 576x396 with 1 Axes>"
      ]
     },
     "metadata": {
      "tags": []
     },
     "output_type": "display_data"
    }
   ],
   "source": [
    "\n",
    "score = model.evaluate(x_test, y_test, verbose=0) \n",
    "print('Test score:', score[0]) \n",
    "print('Test accuracy:', score[1])\n",
    "\n",
    "\n",
    "fig,ax = plt.subplots(1,1)\n",
    "ax.set_xlabel('epoch') ; ax.set_ylabel('Categorical Crossentropy Loss')\n",
    "\n",
    "# list of epoch numbers\n",
    "x = list(range(1,epochs+1))\n",
    "\n",
    "# print(history.history.keys())\n",
    "# dict_keys(['val_loss', 'val_acc', 'loss', 'acc'])\n",
    "# history = model_drop.fit(X_train, Y_train, batch_size=batch_size, epochs=nb_epoch, verbose=1, validation_data=(X_test, Y_test))\n",
    "\n",
    "# we will get val_loss and val_acc only when you pass the paramter validation_data\n",
    "# val_loss : validation loss\n",
    "# val_acc : validation accuracy\n",
    "\n",
    "# loss : training loss\n",
    "# acc : train accuracy\n",
    "# for each key in histrory.histrory we will have a list of length equal to number of epochs\n",
    "\n",
    "vy = history.history['val_loss']\n",
    "ty = history.history['loss']\n",
    "plt_dynamic(x, vy, ty, ax)\n"
   ]
  },
  {
   "cell_type": "markdown",
   "metadata": {
    "colab_type": "text",
    "id": "1PJwCkweR7Gp"
   },
   "source": [
    "# ***CONCLUSION***"
   ]
  },
  {
   "cell_type": "code",
   "execution_count": 5,
   "metadata": {
    "colab": {
     "base_uri": "https://localhost:8080/",
     "height": 165
    },
    "colab_type": "code",
    "id": "8xPcZ4T8SBTa",
    "outputId": "9d8376a1-01d2-49c6-9658-c1b2c11a7db7"
   },
   "outputs": [
    {
     "name": "stdout",
     "output_type": "stream",
     "text": [
      "+--------------+------------+-----------+---------+----------------+---------------+------------+\n",
      "| Conv2D_input |   Conv2D   | pool_size | dropout | dropout_output | Test Accuracy | Test score |\n",
      "+--------------+------------+-----------+---------+----------------+---------------+------------+\n",
      "|  (32, 5, 5)  | (64, 5, 5) |   (3, 3)  |   0.5   |      0.25      |     0.993     |   0.0215   |\n",
      "|  (32, 7, 7)  | (64, 7, 7) |   (3, 3)  |   0.25  |      0.25      |     0.9933    |   0.0241   |\n",
      "|  (32, 3, 3)  | (64, 6, 6) |   (2, 2)  |   0.5   |      0.5       |     0.9931    |   0.0227   |\n",
      "+--------------+------------+-----------+---------+----------------+---------------+------------+\n"
     ]
    }
   ],
   "source": [
    "# CONCLUSION\n",
    "\n",
    "# Please compare all your models using Prettytable library\n",
    "from prettytable import PrettyTable\n",
    "    \n",
    "x = PrettyTable()\n",
    "\n",
    "x.field_names = [\"Conv2D_input\",\"Conv2D\" ,\"pool_size\",\"dropout\",\"dropout_output\", \"Test Accuracy\",\"Test score\"]\n",
    "\n",
    "x.add_row([(32,5,5), (64,5,5), (3,3), .5,  .25 ,.993,.0215])\n",
    "x.add_row([(32,7,7), (64,7,7), (3,3), .25, .25  ,.9933,.0241])\n",
    "x.add_row([(32,3,3), (64,6,6), (2,2), .5,  .5 ,.9931,.0227])\n",
    "\n",
    "\n",
    "print(x)"
   ]
  },
  {
   "cell_type": "markdown",
   "metadata": {
    "colab_type": "text",
    "id": "vi_QZsQCP7dl"
   },
   "source": [
    "\n",
    "1.   I have used 3 architecture to observe the model. I have used adam as optimizer and relu as activation on my model and after the analysis of model with different dropout-rates,pool size and kernal size the model gave excellent result in the accuracy and gave mimimum error but this model had no significant changes with different values after analysis. From my observation i can conclude that  keeping minimal dropout rates such that the model does not gets overfit, the model is going to be as required\n",
    "\n",
    "\n",
    "\n"
   ]
  }
 ],
 "metadata": {
  "colab": {
   "collapsed_sections": [],
   "name": "CNN_DEEP.ipynb",
   "provenance": [],
   "version": "0.3.2"
  },
  "kernelspec": {
   "display_name": "Python 3",
   "language": "python",
   "name": "python3"
  },
  "language_info": {
   "codemirror_mode": {
    "name": "ipython",
    "version": 3
   },
   "file_extension": ".py",
   "mimetype": "text/x-python",
   "name": "python",
   "nbconvert_exporter": "python",
   "pygments_lexer": "ipython3",
   "version": "3.6.5"
  }
 },
 "nbformat": 4,
 "nbformat_minor": 1
}
